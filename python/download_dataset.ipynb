{
 "cells": [
  {
   "cell_type": "code",
   "execution_count": null,
   "metadata": {},
   "outputs": [],
   "source": [
    "from google_images_download import google_images_download"
   ]
  },
  {
   "cell_type": "markdown",
   "metadata": {},
   "source": [
    "Images will be dowloaded from **google images** using [google-images-download](https://github.com/hardikvasa/google-images-download) project."
   ]
  },
  {
   "cell_type": "code",
   "execution_count": null,
   "metadata": {},
   "outputs": [],
   "source": [
    "response = google_images_download.googleimagesdownload()\n",
    "response.download(\n",
    "    {\n",
    "        \"keywords\":\"croissant,pain au chocolat\", \n",
    "        \"output_directory\":\"dataset\", \n",
    "        \"limit\":300,\n",
    "        \"chromedriver\": \"/home/pierre/Development/Devoxx/venv/lib/python3.6/site-packages/chromedriver_binary/chromedriver\"\n",
    "    })"
   ]
  }
 ],
 "metadata": {
  "kernelspec": {
   "display_name": "Python 3",
   "language": "python",
   "name": "python3"
  },
  "language_info": {
   "codemirror_mode": {
    "name": "ipython",
    "version": 3
   },
   "file_extension": ".py",
   "mimetype": "text/x-python",
   "name": "python",
   "nbconvert_exporter": "python",
   "pygments_lexer": "ipython3",
   "version": "3.6.8"
  }
 },
 "nbformat": 4,
 "nbformat_minor": 2
}
